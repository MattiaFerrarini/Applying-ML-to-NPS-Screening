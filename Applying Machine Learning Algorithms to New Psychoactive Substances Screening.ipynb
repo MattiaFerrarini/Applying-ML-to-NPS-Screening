{
  "cells": [
    {
      "cell_type": "markdown",
      "metadata": {
        "id": "8t6FmKVSRtl2"
      },
      "source": [
        "# Introduction"
      ]
    },
    {
      "cell_type": "markdown",
      "metadata": {
        "id": "aqVZEBx1WujZ"
      },
      "source": [
        "## New Psychoactive Substances and Machine Learning"
      ]
    },
    {
      "cell_type": "markdown",
      "metadata": {
        "id": "jQlDFncv5ZXH"
      },
      "source": [
        "### New Psychoactive Substances"
      ]
    },
    {
      "cell_type": "markdown",
      "metadata": {
        "id": "MY3DTV9g5jjX"
      },
      "source": [
        "According to UNODC, New Psychoactive Substances (NPS) are *substances of abuse, either in a pure form or a preparation, that are not controlled by the 1961 Single Convention on Narcotic Drugs or the 1971 Convention on Psychotropic Substances, but which may pose a public health threat* [[1]](#1).\n",
        "These compounds present a significant challenge since their potential adverse health effects and social harms are often not documented.\n",
        "\n",
        "Moreover, *the analysis and identification of a large number of chemically diverse substances present in drug markets at the same time is demanding* [[1]](#1).\n",
        "Therefore, extensive efforts have been made to develop robust and efficient methods for the detection of NPS."
      ]
    },
    {
      "cell_type": "markdown",
      "metadata": {
        "id": "yx-WI1ym5dXx"
      },
      "source": [
        "### Classical approaches to screening NPS"
      ]
    },
    {
      "cell_type": "markdown",
      "metadata": {
        "id": "i6vQ2tJ05z1z"
      },
      "source": [
        "Due to its ease of operation and ability to distinguish compound mixtures, GC–MS is one of the most widely used techniques for substance identification.\n",
        "Traditionally, the identification of a compound involves matching its retention time and mass spectrum with known records in a library using similarity algorithms. For accurate detection, this approach requires a comprehensive database. However, in the case of NPS, creating an exhaustive database is challenging due to the constantly increasing structural diversity of the substances. Thus, *current GC–MS database are unable to exhaustively cover the spectrum of all possible NPSs* [[2]](#2)."
      ]
    },
    {
      "cell_type": "markdown",
      "metadata": {
        "id": "aoZcZ0so5ncz"
      },
      "source": [
        "### The machine learning solution"
      ]
    },
    {
      "cell_type": "markdown",
      "metadata": {
        "id": "3KrSNbXF9ZEQ"
      },
      "source": [
        "Newer approaches classify unknown substances using machine learning (ML) models trained on compounds in the available library (dataset). These methods are very effective for two reasons:\n",
        "\n",
        "1. **Pattern recognition**: machine learning algorithms excel at recognizing patterns and trends within complex datasets;\n",
        "2. **Generalization**: if trained correctly, ML models can generalize the knowledge learned from the available data to new unseen substances, making them particularly suit to detecting substances with always new structures.\n",
        "\n",
        "An example of this new approach is [[2]](#2), where the authors developed a machine learning based model that can classify an unknown NPS to its drug class based solely on its GC–MS, with no knowledge of its nominal molecular mass."
      ]
    },
    {
      "cell_type": "markdown",
      "metadata": {
        "id": "QowLeqS6770u"
      },
      "source": [
        "### The task from the ML perspective"
      ]
    },
    {
      "cell_type": "markdown",
      "metadata": {
        "id": "_d2KtcD8Wyyg"
      },
      "source": [
        "In the machine learning realm, the task of screening new substances given a dataset of known ones is a supervised classification problem. It is a classification problem because the substances need to be either assigned the 'non-NPS' class or one of the known NPS classes. It is called supervised because the substances in the dataset are associated with labels (classes) which guide the ML model's training, acting as supervisors.\n",
        "\n",
        "There exist several machine learning algorithms that can be used to build a classifier. The effectiveness of these algorithms depend on various factors, including the amount and quality of the available data."
      ]
    },
    {
      "cell_type": "markdown",
      "metadata": {
        "id": "JOCV7THXW0H4"
      },
      "source": [
        "## About the notebook"
      ]
    },
    {
      "cell_type": "markdown",
      "metadata": {
        "id": "7hT8QFfOW2ZO"
      },
      "source": [
        "The goal of this notebook is to demonstrate the effectiveness of machine learning models in screening new psychoactive substances. This has already been proved in [[2]](#2), where, however, only three ML models where tested: a balanced random forest, a deep neural network and a convolutional neural network.\n",
        "\n",
        "This notebook will use the same GC–MS data employed in [[2]](#2) and test more machine learning models which are not based on neural networks. Moreover, the feature importances of the best performing models will be analysed, which was not done in [[2]](#2).\n",
        "\n",
        "The following sections will cover the necessary steps for creating an ML model, train multiple models on a dataset with various substances, compare their accuracies and analyse their feature importances."
      ]
    },
    {
      "cell_type": "markdown",
      "metadata": {
        "id": "QLThJ70S_zfj"
      },
      "source": [
        "# The dataset"
      ]
    },
    {
      "cell_type": "markdown",
      "metadata": {
        "id": "mafOe96y_2Vm"
      },
      "source": [
        "The dataset used in this notebook is composed of 891 GC–MS spectra of compounds with nominal mass < 600 from various classes. The inputs of the ML models will be the abundances of molecular fragments at mass-to-charge ratios from 1 to 600.\n",
        "\n",
        "The data can be found under \"Appendix D. Supplementary data\" of [[2]](#2). As explained by the authors, the dataset was obtained by combining:\n",
        "1. NPS GC–MS data from the Scientific Working Group for Seized Drug and Cayman Chemical Spectral Library;\n",
        "2. GC–MS data of other non-related compounds with nominal mass < 600 from the database distributed with the demonstration software version of NIST MS Search v2.3.\n"
      ]
    },
    {
      "cell_type": "markdown",
      "metadata": {
        "id": "1fo9_mTyV97Y"
      },
      "source": [
        "# Importing the necessary libraries"
      ]
    },
    {
      "cell_type": "code",
      "execution_count": 1,
      "metadata": {
        "colab": {
          "base_uri": "https://localhost:8080/"
        },
        "id": "Mh1R05Fgd-Mr",
        "outputId": "1cf9a5ee-041b-4df8-f8b9-47c86d9ca3a5"
      },
      "outputs": [
        {
          "name": "stdout",
          "output_type": "stream",
          "text": [
            "Drive already mounted at /content/gdrive; to attempt to forcibly remount, call drive.mount(\"/content/gdrive\", force_remount=True).\n"
          ]
        }
      ],
      "source": [
        "import pandas as pd\n",
        "import numpy as np\n",
        "import matplotlib.pyplot as plt\n",
        "from sklearn.model_selection import train_test_split\n",
        "from imblearn.over_sampling import SMOTE\n",
        "from sklearn.preprocessing import StandardScaler\n",
        "from sklearn.pipeline import Pipeline\n",
        "from sklearn.model_selection import GridSearchCV\n",
        "from sklearn.neighbors import NearestCentroid, NeighborhoodComponentsAnalysis, KNeighborsClassifier\n",
        "from sklearn.linear_model import LogisticRegression\n",
        "from sklearn.naive_bayes import GaussianNB\n",
        "from sklearn.svm import SVC\n",
        "from sklearn.tree import DecisionTreeClassifier\n",
        "from sklearn.ensemble import RandomForestClassifier, ExtraTreesClassifier, VotingClassifier\n",
        "from xgboost import XGBClassifier\n",
        "from sklearn.metrics import confusion_matrix\n",
        "import seaborn as sns"
      ]
    },
    {
      "cell_type": "markdown",
      "metadata": {
        "id": "2y9KSeQ0gLB0"
      },
      "source": [
        "# Data exploration"
      ]
    },
    {
      "cell_type": "markdown",
      "metadata": {
        "id": "nq3IbXWEVFrJ"
      },
      "source": [
        "Before building ML models, we will explore our dataset in order to understand its characteristics, indentify missing values and check the class distribution. This is necessary to determine the most adequate preprocessing steps."
      ]
    },
    {
      "cell_type": "markdown",
      "metadata": {
        "id": "2PQ1K-yUDyPn"
      },
      "source": [
        "## Loading the dataset"
      ]
    },
    {
      "cell_type": "code",
      "execution_count": 2,
      "metadata": {
        "id": "Fy3D3W7KeAsF"
      },
      "outputs": [],
      "source": [
        "df = pd.read_csv('Data/1-s2.0-S2468170923000358-mmc1.csv')"
      ]
    },
    {
      "cell_type": "code",
      "execution_count": 3,
      "metadata": {
        "colab": {
          "base_uri": "https://localhost:8080/"
        },
        "id": "hJbBzHktfn9b",
        "outputId": "d29fb846-6821-4977-e7d5-cacaccd1bba1"
      },
      "outputs": [
        {
          "name": "stdout",
          "output_type": "stream",
          "text": [
            "The dataset has 891 instances and 602 features.\n"
          ]
        }
      ],
      "source": [
        "print(f'The dataset has {df.shape[0]} instances and {df.shape[1]} features.')"
      ]
    },
    {
      "cell_type": "code",
      "execution_count": 4,
      "metadata": {
        "colab": {
          "base_uri": "https://localhost:8080/",
          "height": 235
        },
        "id": "bNsnbVsgfv1C",
        "outputId": "fd0b9629-bea6-48ed-f250-f02cdd3e6575"
      },
      "outputs": [
        {
          "data": {
            "text/html": [
              "\n",
              "  <div id=\"df-fdeff6fa-1293-4435-a7f5-854231c1b4fc\" class=\"colab-df-container\">\n",
              "    <div>\n",
              "<style scoped>\n",
              "    .dataframe tbody tr th:only-of-type {\n",
              "        vertical-align: middle;\n",
              "    }\n",
              "\n",
              "    .dataframe tbody tr th {\n",
              "        vertical-align: top;\n",
              "    }\n",
              "\n",
              "    .dataframe thead th {\n",
              "        text-align: right;\n",
              "    }\n",
              "</style>\n",
              "<table border=\"1\" class=\"dataframe\">\n",
              "  <thead>\n",
              "    <tr style=\"text-align: right;\">\n",
              "      <th></th>\n",
              "      <th>Name</th>\n",
              "      <th>1</th>\n",
              "      <th>2</th>\n",
              "      <th>3</th>\n",
              "      <th>4</th>\n",
              "      <th>5</th>\n",
              "      <th>6</th>\n",
              "      <th>7</th>\n",
              "      <th>8</th>\n",
              "      <th>9</th>\n",
              "      <th>...</th>\n",
              "      <th>592</th>\n",
              "      <th>593</th>\n",
              "      <th>594</th>\n",
              "      <th>595</th>\n",
              "      <th>596</th>\n",
              "      <th>597</th>\n",
              "      <th>598</th>\n",
              "      <th>599</th>\n",
              "      <th>600</th>\n",
              "      <th>label</th>\n",
              "    </tr>\n",
              "  </thead>\n",
              "  <tbody>\n",
              "    <tr>\n",
              "      <th>0</th>\n",
              "      <td>1-Phenyl-2-(piperidin-1-yl)butan-1-one</td>\n",
              "      <td>0</td>\n",
              "      <td>0</td>\n",
              "      <td>0</td>\n",
              "      <td>0</td>\n",
              "      <td>0</td>\n",
              "      <td>0</td>\n",
              "      <td>0</td>\n",
              "      <td>0</td>\n",
              "      <td>0</td>\n",
              "      <td>...</td>\n",
              "      <td>0.0</td>\n",
              "      <td>0.0</td>\n",
              "      <td>0.0</td>\n",
              "      <td>0.0</td>\n",
              "      <td>0.0</td>\n",
              "      <td>0.0</td>\n",
              "      <td>0.0</td>\n",
              "      <td>0.0</td>\n",
              "      <td>0</td>\n",
              "      <td>0</td>\n",
              "    </tr>\n",
              "    <tr>\n",
              "      <th>1</th>\n",
              "      <td>2,3-Dimethylethcathinone</td>\n",
              "      <td>0</td>\n",
              "      <td>0</td>\n",
              "      <td>0</td>\n",
              "      <td>0</td>\n",
              "      <td>0</td>\n",
              "      <td>0</td>\n",
              "      <td>0</td>\n",
              "      <td>0</td>\n",
              "      <td>0</td>\n",
              "      <td>...</td>\n",
              "      <td>0.0</td>\n",
              "      <td>0.0</td>\n",
              "      <td>0.0</td>\n",
              "      <td>0.0</td>\n",
              "      <td>0.0</td>\n",
              "      <td>0.0</td>\n",
              "      <td>0.0</td>\n",
              "      <td>0.0</td>\n",
              "      <td>0</td>\n",
              "      <td>0</td>\n",
              "    </tr>\n",
              "    <tr>\n",
              "      <th>2</th>\n",
              "      <td>2,4-Dimethylethcathinone</td>\n",
              "      <td>0</td>\n",
              "      <td>0</td>\n",
              "      <td>0</td>\n",
              "      <td>0</td>\n",
              "      <td>0</td>\n",
              "      <td>0</td>\n",
              "      <td>0</td>\n",
              "      <td>0</td>\n",
              "      <td>0</td>\n",
              "      <td>...</td>\n",
              "      <td>0.0</td>\n",
              "      <td>0.0</td>\n",
              "      <td>0.0</td>\n",
              "      <td>0.0</td>\n",
              "      <td>0.0</td>\n",
              "      <td>0.0</td>\n",
              "      <td>0.0</td>\n",
              "      <td>0.0</td>\n",
              "      <td>0</td>\n",
              "      <td>0</td>\n",
              "    </tr>\n",
              "    <tr>\n",
              "      <th>3</th>\n",
              "      <td>2-Chloroethcathinone</td>\n",
              "      <td>0</td>\n",
              "      <td>0</td>\n",
              "      <td>0</td>\n",
              "      <td>0</td>\n",
              "      <td>0</td>\n",
              "      <td>0</td>\n",
              "      <td>0</td>\n",
              "      <td>0</td>\n",
              "      <td>0</td>\n",
              "      <td>...</td>\n",
              "      <td>0.0</td>\n",
              "      <td>0.0</td>\n",
              "      <td>0.0</td>\n",
              "      <td>0.0</td>\n",
              "      <td>0.0</td>\n",
              "      <td>0.0</td>\n",
              "      <td>0.0</td>\n",
              "      <td>0.0</td>\n",
              "      <td>0</td>\n",
              "      <td>0</td>\n",
              "    </tr>\n",
              "    <tr>\n",
              "      <th>4</th>\n",
              "      <td>2-Ethylethcathinone</td>\n",
              "      <td>0</td>\n",
              "      <td>0</td>\n",
              "      <td>0</td>\n",
              "      <td>0</td>\n",
              "      <td>0</td>\n",
              "      <td>0</td>\n",
              "      <td>0</td>\n",
              "      <td>0</td>\n",
              "      <td>0</td>\n",
              "      <td>...</td>\n",
              "      <td>0.0</td>\n",
              "      <td>0.0</td>\n",
              "      <td>0.0</td>\n",
              "      <td>0.0</td>\n",
              "      <td>0.0</td>\n",
              "      <td>0.0</td>\n",
              "      <td>0.0</td>\n",
              "      <td>0.0</td>\n",
              "      <td>0</td>\n",
              "      <td>0</td>\n",
              "    </tr>\n",
              "  </tbody>\n",
              "</table>\n",
              "<p>5 rows × 602 columns</p>\n",
              "</div>\n",
              "    <div class=\"colab-df-buttons\">\n",
              "\n",
              "  <div class=\"colab-df-container\">\n",
              "    <button class=\"colab-df-convert\" onclick=\"convertToInteractive('df-fdeff6fa-1293-4435-a7f5-854231c1b4fc')\"\n",
              "            title=\"Convert this dataframe to an interactive table.\"\n",
              "            style=\"display:none;\">\n",
              "\n",
              "  <svg xmlns=\"http://www.w3.org/2000/svg\" height=\"24px\" viewBox=\"0 -960 960 960\">\n",
              "    <path d=\"M120-120v-720h720v720H120Zm60-500h600v-160H180v160Zm220 220h160v-160H400v160Zm0 220h160v-160H400v160ZM180-400h160v-160H180v160Zm440 0h160v-160H620v160ZM180-180h160v-160H180v160Zm440 0h160v-160H620v160Z\"/>\n",
              "  </svg>\n",
              "    </button>\n",
              "\n",
              "  <style>\n",
              "    .colab-df-container {\n",
              "      display:flex;\n",
              "      gap: 12px;\n",
              "    }\n",
              "\n",
              "    .colab-df-convert {\n",
              "      background-color: #E8F0FE;\n",
              "      border: none;\n",
              "      border-radius: 50%;\n",
              "      cursor: pointer;\n",
              "      display: none;\n",
              "      fill: #1967D2;\n",
              "      height: 32px;\n",
              "      padding: 0 0 0 0;\n",
              "      width: 32px;\n",
              "    }\n",
              "\n",
              "    .colab-df-convert:hover {\n",
              "      background-color: #E2EBFA;\n",
              "      box-shadow: 0px 1px 2px rgba(60, 64, 67, 0.3), 0px 1px 3px 1px rgba(60, 64, 67, 0.15);\n",
              "      fill: #174EA6;\n",
              "    }\n",
              "\n",
              "    .colab-df-buttons div {\n",
              "      margin-bottom: 4px;\n",
              "    }\n",
              "\n",
              "    [theme=dark] .colab-df-convert {\n",
              "      background-color: #3B4455;\n",
              "      fill: #D2E3FC;\n",
              "    }\n",
              "\n",
              "    [theme=dark] .colab-df-convert:hover {\n",
              "      background-color: #434B5C;\n",
              "      box-shadow: 0px 1px 3px 1px rgba(0, 0, 0, 0.15);\n",
              "      filter: drop-shadow(0px 1px 2px rgba(0, 0, 0, 0.3));\n",
              "      fill: #FFFFFF;\n",
              "    }\n",
              "  </style>\n",
              "\n",
              "    <script>\n",
              "      const buttonEl =\n",
              "        document.querySelector('#df-fdeff6fa-1293-4435-a7f5-854231c1b4fc button.colab-df-convert');\n",
              "      buttonEl.style.display =\n",
              "        google.colab.kernel.accessAllowed ? 'block' : 'none';\n",
              "\n",
              "      async function convertToInteractive(key) {\n",
              "        const element = document.querySelector('#df-fdeff6fa-1293-4435-a7f5-854231c1b4fc');\n",
              "        const dataTable =\n",
              "          await google.colab.kernel.invokeFunction('convertToInteractive',\n",
              "                                                    [key], {});\n",
              "        if (!dataTable) return;\n",
              "\n",
              "        const docLinkHtml = 'Like what you see? Visit the ' +\n",
              "          '<a target=\"_blank\" href=https://colab.research.google.com/notebooks/data_table.ipynb>data table notebook</a>'\n",
              "          + ' to learn more about interactive tables.';\n",
              "        element.innerHTML = '';\n",
              "        dataTable['output_type'] = 'display_data';\n",
              "        await google.colab.output.renderOutput(dataTable, element);\n",
              "        const docLink = document.createElement('div');\n",
              "        docLink.innerHTML = docLinkHtml;\n",
              "        element.appendChild(docLink);\n",
              "      }\n",
              "    </script>\n",
              "  </div>\n",
              "\n",
              "\n",
              "<div id=\"df-798ea028-ecf8-45cb-8b80-ba363cbbb5a0\">\n",
              "  <button class=\"colab-df-quickchart\" onclick=\"quickchart('df-798ea028-ecf8-45cb-8b80-ba363cbbb5a0')\"\n",
              "            title=\"Suggest charts\"\n",
              "            style=\"display:none;\">\n",
              "\n",
              "<svg xmlns=\"http://www.w3.org/2000/svg\" height=\"24px\"viewBox=\"0 0 24 24\"\n",
              "     width=\"24px\">\n",
              "    <g>\n",
              "        <path d=\"M19 3H5c-1.1 0-2 .9-2 2v14c0 1.1.9 2 2 2h14c1.1 0 2-.9 2-2V5c0-1.1-.9-2-2-2zM9 17H7v-7h2v7zm4 0h-2V7h2v10zm4 0h-2v-4h2v4z\"/>\n",
              "    </g>\n",
              "</svg>\n",
              "  </button>\n",
              "\n",
              "<style>\n",
              "  .colab-df-quickchart {\n",
              "      --bg-color: #E8F0FE;\n",
              "      --fill-color: #1967D2;\n",
              "      --hover-bg-color: #E2EBFA;\n",
              "      --hover-fill-color: #174EA6;\n",
              "      --disabled-fill-color: #AAA;\n",
              "      --disabled-bg-color: #DDD;\n",
              "  }\n",
              "\n",
              "  [theme=dark] .colab-df-quickchart {\n",
              "      --bg-color: #3B4455;\n",
              "      --fill-color: #D2E3FC;\n",
              "      --hover-bg-color: #434B5C;\n",
              "      --hover-fill-color: #FFFFFF;\n",
              "      --disabled-bg-color: #3B4455;\n",
              "      --disabled-fill-color: #666;\n",
              "  }\n",
              "\n",
              "  .colab-df-quickchart {\n",
              "    background-color: var(--bg-color);\n",
              "    border: none;\n",
              "    border-radius: 50%;\n",
              "    cursor: pointer;\n",
              "    display: none;\n",
              "    fill: var(--fill-color);\n",
              "    height: 32px;\n",
              "    padding: 0;\n",
              "    width: 32px;\n",
              "  }\n",
              "\n",
              "  .colab-df-quickchart:hover {\n",
              "    background-color: var(--hover-bg-color);\n",
              "    box-shadow: 0 1px 2px rgba(60, 64, 67, 0.3), 0 1px 3px 1px rgba(60, 64, 67, 0.15);\n",
              "    fill: var(--button-hover-fill-color);\n",
              "  }\n",
              "\n",
              "  .colab-df-quickchart-complete:disabled,\n",
              "  .colab-df-quickchart-complete:disabled:hover {\n",
              "    background-color: var(--disabled-bg-color);\n",
              "    fill: var(--disabled-fill-color);\n",
              "    box-shadow: none;\n",
              "  }\n",
              "\n",
              "  .colab-df-spinner {\n",
              "    border: 2px solid var(--fill-color);\n",
              "    border-color: transparent;\n",
              "    border-bottom-color: var(--fill-color);\n",
              "    animation:\n",
              "      spin 1s steps(1) infinite;\n",
              "  }\n",
              "\n",
              "  @keyframes spin {\n",
              "    0% {\n",
              "      border-color: transparent;\n",
              "      border-bottom-color: var(--fill-color);\n",
              "      border-left-color: var(--fill-color);\n",
              "    }\n",
              "    20% {\n",
              "      border-color: transparent;\n",
              "      border-left-color: var(--fill-color);\n",
              "      border-top-color: var(--fill-color);\n",
              "    }\n",
              "    30% {\n",
              "      border-color: transparent;\n",
              "      border-left-color: var(--fill-color);\n",
              "      border-top-color: var(--fill-color);\n",
              "      border-right-color: var(--fill-color);\n",
              "    }\n",
              "    40% {\n",
              "      border-color: transparent;\n",
              "      border-right-color: var(--fill-color);\n",
              "      border-top-color: var(--fill-color);\n",
              "    }\n",
              "    60% {\n",
              "      border-color: transparent;\n",
              "      border-right-color: var(--fill-color);\n",
              "    }\n",
              "    80% {\n",
              "      border-color: transparent;\n",
              "      border-right-color: var(--fill-color);\n",
              "      border-bottom-color: var(--fill-color);\n",
              "    }\n",
              "    90% {\n",
              "      border-color: transparent;\n",
              "      border-bottom-color: var(--fill-color);\n",
              "    }\n",
              "  }\n",
              "</style>\n",
              "\n",
              "  <script>\n",
              "    async function quickchart(key) {\n",
              "      const quickchartButtonEl =\n",
              "        document.querySelector('#' + key + ' button');\n",
              "      quickchartButtonEl.disabled = true;  // To prevent multiple clicks.\n",
              "      quickchartButtonEl.classList.add('colab-df-spinner');\n",
              "      try {\n",
              "        const charts = await google.colab.kernel.invokeFunction(\n",
              "            'suggestCharts', [key], {});\n",
              "      } catch (error) {\n",
              "        console.error('Error during call to suggestCharts:', error);\n",
              "      }\n",
              "      quickchartButtonEl.classList.remove('colab-df-spinner');\n",
              "      quickchartButtonEl.classList.add('colab-df-quickchart-complete');\n",
              "    }\n",
              "    (() => {\n",
              "      let quickchartButtonEl =\n",
              "        document.querySelector('#df-798ea028-ecf8-45cb-8b80-ba363cbbb5a0 button');\n",
              "      quickchartButtonEl.style.display =\n",
              "        google.colab.kernel.accessAllowed ? 'block' : 'none';\n",
              "    })();\n",
              "  </script>\n",
              "</div>\n",
              "    </div>\n",
              "  </div>\n"
            ],
            "text/plain": [
              "                                     Name  1  2  3  4  5  6  7  8  9  ...  \\\n",
              "0  1-Phenyl-2-(piperidin-1-yl)butan-1-one  0  0  0  0  0  0  0  0  0  ...   \n",
              "1                2,3-Dimethylethcathinone  0  0  0  0  0  0  0  0  0  ...   \n",
              "2                2,4-Dimethylethcathinone  0  0  0  0  0  0  0  0  0  ...   \n",
              "3                    2-Chloroethcathinone  0  0  0  0  0  0  0  0  0  ...   \n",
              "4                     2-Ethylethcathinone  0  0  0  0  0  0  0  0  0  ...   \n",
              "\n",
              "   592  593  594  595  596  597  598  599  600  label  \n",
              "0  0.0  0.0  0.0  0.0  0.0  0.0  0.0  0.0    0      0  \n",
              "1  0.0  0.0  0.0  0.0  0.0  0.0  0.0  0.0    0      0  \n",
              "2  0.0  0.0  0.0  0.0  0.0  0.0  0.0  0.0    0      0  \n",
              "3  0.0  0.0  0.0  0.0  0.0  0.0  0.0  0.0    0      0  \n",
              "4  0.0  0.0  0.0  0.0  0.0  0.0  0.0  0.0    0      0  \n",
              "\n",
              "[5 rows x 602 columns]"
            ]
          },
          "execution_count": 4,
          "metadata": {},
          "output_type": "execute_result"
        }
      ],
      "source": [
        "df.head()"
      ]
    },
    {
      "cell_type": "markdown",
      "metadata": {
        "id": "qWjfBMKhD7UE"
      },
      "source": [
        "## Missing values"
      ]
    },
    {
      "cell_type": "markdown",
      "metadata": {
        "id": "9sT4j8ehEFVA"
      },
      "source": [
        "If the dataset has missing values, we need to address the problem by either removing the incomplete instances (i.e. rows) or filling the missing data with arbitrary or estimated values."
      ]
    },
    {
      "cell_type": "code",
      "execution_count": 5,
      "metadata": {
        "colab": {
          "base_uri": "https://localhost:8080/"
        },
        "id": "fWVsa1sHAj9K",
        "outputId": "fceeb186-a790-4b51-8caa-95c9f1838693"
      },
      "outputs": [
        {
          "name": "stdout",
          "output_type": "stream",
          "text": [
            "0      0\n",
            "598    0\n",
            "587    0\n",
            "588    0\n",
            "589    0\n",
            "      ..\n",
            "300    0\n",
            "301    0\n",
            "302    0\n",
            "303    0\n",
            "890    0\n",
            "Length: 891, dtype: int64\n"
          ]
        }
      ],
      "source": [
        "missing_count_rows = df.isnull().sum(axis=1)\n",
        "missing_count_rows.sort_values(ascending=False, inplace=True)\n",
        "print(missing_count_rows)"
      ]
    },
    {
      "cell_type": "markdown",
      "metadata": {
        "id": "hyd5GTHDE9Zp"
      },
      "source": [
        "The dataset has no missing values so nothing needs to be done in this regard."
      ]
    },
    {
      "cell_type": "markdown",
      "metadata": {
        "id": "hOxKjkUYD_Dv"
      },
      "source": [
        "## Class distribution"
      ]
    },
    {
      "cell_type": "markdown",
      "metadata": {
        "id": "LDOO5BEXFYBO"
      },
      "source": [
        "In classification problems, it's very important to check the class distribution to detect a possible imbalance. Class imbalance occurs when one or more classes significantly outnumber the others. Imbalanced datasets can lead to biased models favouring the majority classes and performing poorly on the minority ones. This occurs because the models are trained to maximize overall accuracy, which might be achieved by predicting the majority class for every instance."
      ]
    },
    {
      "cell_type": "code",
      "execution_count": 6,
      "metadata": {
        "colab": {
          "base_uri": "https://localhost:8080/"
        },
        "id": "a-aMKE-af0lS",
        "outputId": "a0d754fb-db78-49d9-80bd-36186845805a"
      },
      "outputs": [
        {
          "name": "stdout",
          "output_type": "stream",
          "text": [
            "89\tCathinone analogues\n",
            "149\tCannabinoid analogues\n",
            "112\tPhenethylamine analogues\n",
            "50\tPiperazine analogues\n",
            "67\tTryptamine analogues\n",
            "222\tFentanyl analogues\n",
            "202\tOther compounds\n"
          ]
        }
      ],
      "source": [
        "# list of classes\n",
        "classes = ['Cathinone analogues', 'Cannabinoid analogues',\n",
        "           'Phenethylamine analogues', 'Piperazine analogues',\n",
        "           'Tryptamine analogues', 'Fentanyl analogues', 'Other compounds']\n",
        "\n",
        "\n",
        "# list of distributions\n",
        "distributions = df['label'].value_counts()\n",
        "\n",
        "# print frequency per class\n",
        "for i in range(len(distributions)):\n",
        "  print(str(distributions[i]) + '\\t' + classes[i])"
      ]
    },
    {
      "cell_type": "markdown",
      "metadata": {
        "id": "NVD8NZeCHYMY"
      },
      "source": [
        "The dataset appears to be slightly imbalanced. We will address this issue in the preprocessing phase."
      ]
    },
    {
      "cell_type": "markdown",
      "metadata": {
        "id": "JUTljhmLgcNZ"
      },
      "source": [
        "# Preprocessing"
      ]
    },
    {
      "cell_type": "markdown",
      "metadata": {
        "id": "oAHKYiiuVdpD"
      },
      "source": [
        "Preprocessing is a crucial phase in creating a machine learning model, which consists of cleaning and preparing the raw data before feeding it into a model for training. Usual preprocessing steps include data cleaning, train-test splitting, feature engineering, normalization and handling imbalances.\n",
        "\n",
        "Since we have no missing values and we will not perform feature engineering, our preprocessing involves:\n",
        "\n",
        "1. Splitting the dataset into a training one and a testing one;\n",
        "2. Normalizing the data;\n",
        "3. Oversampling the data to solve class imbalance.\n",
        "\n"
      ]
    },
    {
      "cell_type": "markdown",
      "metadata": {
        "id": "MdQe2oOS_NBo"
      },
      "source": [
        "## Train-test split"
      ]
    },
    {
      "cell_type": "markdown",
      "metadata": {
        "id": "H9kx2sgFM3Za"
      },
      "source": [
        "The primary goal of a machine learning model is to generalize well to unseen data, in this case unseen NPS. In order to assess this ability, the dataset is split into a training set and a testing set. The models will be trained on the training set and evaluated on the unseen data of the testing set.\n",
        "\n",
        "Our split will be 80% training and 20% testing."
      ]
    },
    {
      "cell_type": "code",
      "execution_count": 7,
      "metadata": {
        "id": "UDx1z5SIgkr5"
      },
      "outputs": [],
      "source": [
        "# separate the target variable ('label') from the rest of the data\n",
        "Y = df['label']\n",
        "\n",
        "# drop the target variable and 'Name' in order to only have features\n",
        "X = df.drop(['label', 'Name'], axis=1)"
      ]
    },
    {
      "cell_type": "code",
      "execution_count": 8,
      "metadata": {
        "id": "md_0Ve0MCLdt"
      },
      "outputs": [],
      "source": [
        "# save feature names for later\n",
        "feature_names = X.columns.tolist()"
      ]
    },
    {
      "cell_type": "code",
      "execution_count": 9,
      "metadata": {
        "id": "HIYQ4WxjhKmT"
      },
      "outputs": [],
      "source": [
        "# perform train-test split\n",
        "X = np.array(X)\n",
        "Y = np.array(Y)\n",
        "x_train, x_test, y_train, y_test = train_test_split(X, Y, test_size=0.2, random_state=42)"
      ]
    },
    {
      "cell_type": "code",
      "execution_count": 10,
      "metadata": {
        "colab": {
          "base_uri": "https://localhost:8080/"
        },
        "id": "P53hxNnXHZts",
        "outputId": "05143a87-25b0-4686-bd00-91feae1b07ac"
      },
      "outputs": [
        {
          "name": "stdout",
          "output_type": "stream",
          "text": [
            "The training set has 712 instances and 600 features.\n",
            "The test set has 179 instances and 600 features.\n"
          ]
        }
      ],
      "source": [
        "# check set sizes\n",
        "print(f'The training set has {x_train.shape[0]} instances and {x_train.shape[1]} features.')\n",
        "print(f'The test set has {x_test.shape[0]} instances and {x_test.shape[1]} features.')"
      ]
    },
    {
      "cell_type": "markdown",
      "metadata": {
        "id": "YscOPFMjBYSO"
      },
      "source": [
        "## Normalization"
      ]
    },
    {
      "cell_type": "markdown",
      "metadata": {
        "id": "ISTok7nPTdJn"
      },
      "source": [
        "Many machine learning algorithms are sensitive to the scale of features. Scaling and normalization ensure that all features contribute equally to the model.\n",
        "\n",
        "We will perform a z-score normalization: the resulting features of the training data will have a mean of 0 and standard deviation of 1."
      ]
    },
    {
      "cell_type": "code",
      "execution_count": 11,
      "metadata": {
        "id": "k9WQWrsRBaQC"
      },
      "outputs": [],
      "source": [
        "scaler = StandardScaler()\n",
        "\n",
        "# fit and transform the training set\n",
        "x_train = scaler.fit_transform(x_train)\n",
        "\n",
        "# transform the test set using the same scaler\n",
        "x_test = scaler.transform(x_test)"
      ]
    },
    {
      "cell_type": "markdown",
      "metadata": {
        "id": "-64uBI-bvgVk"
      },
      "source": [
        "## Oversampling"
      ]
    },
    {
      "cell_type": "markdown",
      "metadata": {
        "id": "IvxwaPosTMId"
      },
      "source": [
        "As already verified in the data exploration phase, the dataset is imbalanced. This of course applies to the training set as well. In order to avoid the creation of a biased model, we need to address this issues.\n",
        "\n",
        "This can be achieved through oversampling, which consists in increasing the number of instances in the minority classes. One way to do so is Synthetic Minority Over-sampling Technique (SMOTE). SMOTE creates synthetic instances for the minority classes by interpolating between the existing ones.\n"
      ]
    },
    {
      "cell_type": "code",
      "execution_count": 12,
      "metadata": {
        "colab": {
          "base_uri": "https://localhost:8080/"
        },
        "id": "b768Z43bLHRv",
        "outputId": "4ccb2c14-7af7-4a0f-8551-764117544fe5"
      },
      "outputs": [
        {
          "data": {
            "text/plain": [
              "5    179\n",
              "6    165\n",
              "1    122\n",
              "2     83\n",
              "0     70\n",
              "4     58\n",
              "3     35\n",
              "dtype: int64"
            ]
          },
          "execution_count": 12,
          "metadata": {},
          "output_type": "execute_result"
        }
      ],
      "source": [
        "# check if training set is balanced\n",
        "pd.Series(y_train).value_counts()"
      ]
    },
    {
      "cell_type": "code",
      "execution_count": 13,
      "metadata": {
        "id": "bckLmEfomloq"
      },
      "outputs": [],
      "source": [
        "# oversampling\n",
        "smote = SMOTE(random_state=42)\n",
        "x_train, y_train = smote.fit_resample(x_train, y_train)"
      ]
    },
    {
      "cell_type": "code",
      "execution_count": 14,
      "metadata": {
        "colab": {
          "base_uri": "https://localhost:8080/"
        },
        "id": "STX9xZhznRxo",
        "outputId": "a7befda3-9682-447a-c6b2-33ab52cfdde7"
      },
      "outputs": [
        {
          "data": {
            "text/plain": [
              "3    179\n",
              "6    179\n",
              "4    179\n",
              "1    179\n",
              "5    179\n",
              "0    179\n",
              "2    179\n",
              "dtype: int64"
            ]
          },
          "execution_count": 14,
          "metadata": {},
          "output_type": "execute_result"
        }
      ],
      "source": [
        "# check the results\n",
        "pd.Series(y_train).value_counts()"
      ]
    },
    {
      "cell_type": "code",
      "execution_count": 15,
      "metadata": {
        "colab": {
          "base_uri": "https://localhost:8080/"
        },
        "id": "F2WmvEolBIOM",
        "outputId": "cbb31fef-b705-4411-fe2e-f2af77e3ce00"
      },
      "outputs": [
        {
          "name": "stdout",
          "output_type": "stream",
          "text": [
            "The training set has 1253 instances and 600 features.\n",
            "The test set has 179 instances and 600 features.\n"
          ]
        }
      ],
      "source": [
        "# check set sizes\n",
        "print(f'The training set has {x_train.shape[0]} instances and {x_train.shape[1]} features.')\n",
        "print(f'The test set has {x_test.shape[0]} instances and {x_test.shape[1]} features.')"
      ]
    },
    {
      "cell_type": "markdown",
      "metadata": {
        "id": "HwnflXEV_Cm4"
      },
      "source": [
        "# Model training"
      ]
    },
    {
      "cell_type": "markdown",
      "metadata": {
        "id": "kAxVXcVxT5gD"
      },
      "source": [
        "We will now train various models on our data with the goal of determining the best performing one. For each model, we will calculate the accuracy on the validation set. This will be useful for comparing the models in the Evaluation section."
      ]
    },
    {
      "cell_type": "markdown",
      "metadata": {
        "id": "VCDw1cSlbH55"
      },
      "source": [
        "## Useful functions"
      ]
    },
    {
      "cell_type": "markdown",
      "metadata": {
        "id": "Tg8BW3DxbMf8"
      },
      "source": [
        "Since the training process is the same for all the models, it's useful to define the following functions, which will reduce the amount of code needed."
      ]
    },
    {
      "cell_type": "markdown",
      "metadata": {
        "id": "Uhr481ei1Q58"
      },
      "source": [
        "### Hyperparameter tuning via grid search"
      ]
    },
    {
      "cell_type": "markdown",
      "metadata": {
        "id": "pX_1iwevUAC5"
      },
      "source": [
        "Most machine learning algorithms make use of hyperparameters, parameters that control the learning process.\n",
        "The optimal hyperparameters can be inferred from the data using a grid search method. Grid search  works by specifying a grid of hyperparameters and corresponding values to explore, and then systematically testing each combination of values on the training data to determine the best performing one."
      ]
    },
    {
      "cell_type": "code",
      "execution_count": 16,
      "metadata": {
        "id": "WtTjSFqt1kol"
      },
      "outputs": [],
      "source": [
        "def grid_search(clf, param_grid, x_train, y_train):\n",
        "  # perform grid search with cross-validation\n",
        "  grid_search = GridSearchCV(clf, param_grid, cv=5, scoring='accuracy')\n",
        "  grid_search.fit(x_train, y_train)\n",
        "\n",
        "  # display the best parameters and corresponding accuracy\n",
        "  print(\"Best parameters: \", grid_search.best_params_)\n",
        "  print(f\"Best cross-validated accuracy: {grid_search.best_score_*100:.2f}%\")\n",
        "\n",
        "  # return the best estimator found\n",
        "  return grid_search.best_estimator_"
      ]
    },
    {
      "cell_type": "markdown",
      "metadata": {
        "id": "l9Z_C8Tzl_5v"
      },
      "source": [
        "### Train and test function"
      ]
    },
    {
      "cell_type": "markdown",
      "metadata": {
        "id": "qbe08h-AmILV"
      },
      "source": [
        "The following function can be used to train and test all the models."
      ]
    },
    {
      "cell_type": "code",
      "execution_count": 17,
      "metadata": {
        "id": "ojkz3qfs7Pz9"
      },
      "outputs": [],
      "source": [
        "def train_and_test(clf, x_train, y_train, x_test, y_test, param_grid=None):\n",
        "  # perform hyperparameter tuning if parameters are specified\n",
        "  if param_grid == None:\n",
        "    best_clf = clf.fit(x_train, y_train)\n",
        "  else:\n",
        "    best_clf = grid_search(clf, param_grid, x_train, y_train)\n",
        "\n",
        "  # score the model on the test set and display results\n",
        "  acc = best_clf.score(x_test, y_test)*100\n",
        "  print(f'Accuracy on validation set: {acc:.2f}%')\n",
        "\n",
        "  # return the trained model and accuracy metric\n",
        "  return best_clf, acc"
      ]
    },
    {
      "cell_type": "markdown",
      "metadata": {
        "id": "8uFgUUpxbONg"
      },
      "source": [
        "## Models"
      ]
    },
    {
      "cell_type": "markdown",
      "metadata": {
        "id": "gVc3YuN5bPZZ"
      },
      "source": [
        "The following subsections revolve around model training. For each employed model, a brief description is provided."
      ]
    },
    {
      "cell_type": "markdown",
      "metadata": {
        "id": "R4QtjtuApuiQ"
      },
      "source": [
        "### Nearest Centroid"
      ]
    },
    {
      "cell_type": "markdown",
      "metadata": {
        "id": "FIZmx2s6qWkY"
      },
      "source": [
        "Nearest Centroid is one of the simplest classification algorithms. It is based on the idea of representing each class by the centroid (average) of its members in the feature space. During training, the centroids are calculated and, during classification, each new instance is assigned to the class of the closest centroid in feature space."
      ]
    },
    {
      "cell_type": "code",
      "execution_count": 18,
      "metadata": {
        "colab": {
          "base_uri": "https://localhost:8080/"
        },
        "id": "pTeNWtmrphcH",
        "outputId": "fcfda15a-4077-4046-b091-dc9d5843ca4c"
      },
      "outputs": [
        {
          "name": "stdout",
          "output_type": "stream",
          "text": [
            "Accuracy on validation set: 67.04%\n"
          ]
        }
      ],
      "source": [
        "# train and score Nearest Centroid classifier\n",
        "clf = NearestCentroid()\n",
        "nc, nc_acc = train_and_test(clf, x_train, y_train, x_test, y_test)"
      ]
    },
    {
      "cell_type": "markdown",
      "metadata": {
        "id": "xIseRSUmlSNF"
      },
      "source": [
        "### K-Nearest Neighbour"
      ]
    },
    {
      "cell_type": "markdown",
      "metadata": {
        "id": "l02NLH3xrh1L"
      },
      "source": [
        "K-Nearest Neighbour (KNN) is another simple algorithm based on closeness. Given a data point to classify, it finds its k nearest neighbours, i.e. the k training examples closest to it in feature space. The predicted class will be the majority (most common) class among the k neighbours."
      ]
    },
    {
      "cell_type": "code",
      "execution_count": 19,
      "metadata": {
        "colab": {
          "base_uri": "https://localhost:8080/"
        },
        "id": "YCmhV1mPlTwj",
        "outputId": "ddc6fab9-95f2-445c-aed9-02fa7547b739"
      },
      "outputs": [
        {
          "name": "stdout",
          "output_type": "stream",
          "text": [
            "Accuracy on validation set: 65.92%\n"
          ]
        }
      ],
      "source": [
        "# train and score K-Nearest Neighbour classifier\n",
        "nca = NeighborhoodComponentsAnalysis(random_state=42)\n",
        "clf = KNeighborsClassifier()\n",
        "nca_pipe = Pipeline([('nca', nca), ('knn', clf)])\n",
        "knn, knn_acc = train_and_test(nca_pipe, x_train, y_train, x_test, y_test)"
      ]
    },
    {
      "cell_type": "markdown",
      "metadata": {
        "id": "JYuHMGiIlE8X"
      },
      "source": [
        "### Gaussian Naive Bayes"
      ]
    },
    {
      "cell_type": "markdown",
      "metadata": {
        "id": "9FFPQmVNQQfY"
      },
      "source": [
        "Gaussian Naive Bayes is a classification algorithm based on probabilities, which estimates the distribution parameters for each feature in each class from the training data.\n",
        "When making predictions for a new instance, the algorithm calculates the likelihoods of the observed feature values for each class, combines them with the prior probability of each class and selects the class with the highest overall probability as the prediction."
      ]
    },
    {
      "cell_type": "code",
      "execution_count": 20,
      "metadata": {
        "colab": {
          "base_uri": "https://localhost:8080/"
        },
        "id": "J0YkLkmFlCqm",
        "outputId": "1c580e09-b60d-4398-8010-8ef6f6bcc044"
      },
      "outputs": [
        {
          "name": "stdout",
          "output_type": "stream",
          "text": [
            "Accuracy on validation set: 68.16%\n"
          ]
        }
      ],
      "source": [
        "# train and score Gaussian Naive Bayes classifier\n",
        "clf = GaussianNB()\n",
        "gnb, gnb_acc = train_and_test(clf, x_train, y_train, x_test, y_test)"
      ]
    },
    {
      "cell_type": "markdown",
      "metadata": {
        "id": "TQ4flHfrJElH"
      },
      "source": [
        "### Multinomial Logistic Regression"
      ]
    },
    {
      "cell_type": "markdown",
      "metadata": {
        "id": "QYvAHpOaIZgG"
      },
      "source": [
        "Multinomial logistic regression is an extension of binary logistic regression, which is used for predicting outcomes with two categories. In binary logistic regression the sigmoid function is applied to a linear combination of the features of a given instance, transforming it into the probability of the instance belonging to the first of the two classes. This can be extended to the multinomial case, where more than two categories are present, by training a binary classifier for each class against all the other classes combined (One-vs-Rest approach)."
      ]
    },
    {
      "cell_type": "code",
      "execution_count": 21,
      "metadata": {
        "colab": {
          "base_uri": "https://localhost:8080/"
        },
        "id": "ESUkilcpI7x3",
        "outputId": "ca2e0046-8fb8-4bfb-ca44-26f2e6233f64"
      },
      "outputs": [
        {
          "name": "stdout",
          "output_type": "stream",
          "text": [
            "Best parameters:  {'C': 0.9}\n",
            "Best cross-validated accuracy: 92.82%\n",
            "Accuracy on validation set: 76.54%\n"
          ]
        }
      ],
      "source": [
        "# train and score Logistic Regression classifier\n",
        "clf = LogisticRegression(max_iter=1000, random_state=42)\n",
        "param_grid = {\n",
        "    'C' : [0.8, 0.9, 1, 1.1, 1.2]\n",
        "}\n",
        "lr, lr_acc = train_and_test(clf, x_train, y_train, x_test, y_test, param_grid)"
      ]
    },
    {
      "cell_type": "markdown",
      "metadata": {
        "id": "LVEvZf-GvDSB"
      },
      "source": [
        "### Support Vector Machines"
      ]
    },
    {
      "cell_type": "markdown",
      "metadata": {
        "id": "hN0dcAX7xIAX"
      },
      "source": [
        "Support Vector Machines (SVMs) try to find a hyperplane to separate classes, while trying to maximize the margin, which is the distance between the hyperplane and the nearest data points from each class. These algorithms can handle non-linear relationships between input features by mapping the input data into a higher-dimensional space."
      ]
    },
    {
      "cell_type": "code",
      "execution_count": 22,
      "metadata": {
        "colab": {
          "base_uri": "https://localhost:8080/"
        },
        "id": "XxWqq3_lvF8F",
        "outputId": "69433442-e92b-47a5-8379-440b8250efe3"
      },
      "outputs": [
        {
          "name": "stdout",
          "output_type": "stream",
          "text": [
            "Best parameters:  {'C': 1, 'kernel': 'linear'}\n",
            "Best cross-validated accuracy: 92.34%\n",
            "Accuracy on validation set: 77.65%\n"
          ]
        }
      ],
      "source": [
        "# train and score Support Vector Machine classifier\n",
        "clf = SVC(random_state=42)\n",
        "param_grid = {\n",
        "    'kernel': ['linear', 'poly', 'rbf', 'sigmoid'],\n",
        "    'C' : [0.75, 1, 1.25, 1.5]\n",
        "}\n",
        "svm, svm_acc = train_and_test(clf, x_train, y_train, x_test, y_test, param_grid)"
      ]
    },
    {
      "cell_type": "markdown",
      "metadata": {
        "id": "RPhm3H63q2hv"
      },
      "source": [
        "### Decision Tree"
      ]
    },
    {
      "cell_type": "markdown",
      "metadata": {
        "id": "29pSlStQydvJ"
      },
      "source": [
        "A Decision Tree is a tree-like model that makes predictions by recursively splitting the dataset based on features. The goal is to create a tree structure where each internal node represents a decision based on a specific feature and each leaf node represents a classification.\n",
        "\n",
        "The classification of an instance works as follows: begin at the root node; compare a feature to a threshold and, based on the result, take the left or right branch; repeat until a leaf node is reached; the class associated to the leaf is the predicted one."
      ]
    },
    {
      "cell_type": "code",
      "execution_count": 23,
      "metadata": {
        "colab": {
          "base_uri": "https://localhost:8080/"
        },
        "id": "VgWjYo6Aqd-a",
        "outputId": "d5d05729-f659-4c40-8273-3979f5624cde"
      },
      "outputs": [
        {
          "name": "stdout",
          "output_type": "stream",
          "text": [
            "Best parameters:  {'max_depth': 13, 'max_features': 0.4, 'min_samples_split': 2}\n",
            "Best cross-validated accuracy: 87.31%\n",
            "Accuracy on validation set: 79.89%\n"
          ]
        }
      ],
      "source": [
        "# train and score Decision Tree classifier\n",
        "clf = DecisionTreeClassifier(random_state=42)\n",
        "param_grid = {\n",
        "    'max_depth': [11, 12, 13, 14],\n",
        "    'min_samples_split' : [2, 3, 4, 5],\n",
        "    'max_features' : [0.35, 0.4, 0.45, 0.5]\n",
        "}\n",
        "dt, dt_acc = train_and_test(clf, x_train, y_train, x_test, y_test, param_grid)"
      ]
    },
    {
      "cell_type": "markdown",
      "metadata": {
        "id": "8uZIM1cSsrrg"
      },
      "source": [
        "### Random Forest"
      ]
    },
    {
      "cell_type": "markdown",
      "metadata": {
        "id": "ELNGjajwz9El"
      },
      "source": [
        "Random Forest works by building multiple decision trees and training all of them on a random subset of the data. The classification of the random forest model is the average of the classifications of its trees. The usage of multiple trees trained on different data allows random forest to better generalize to unseen data."
      ]
    },
    {
      "cell_type": "code",
      "execution_count": 24,
      "metadata": {
        "colab": {
          "base_uri": "https://localhost:8080/"
        },
        "id": "qCox-E98srI8",
        "outputId": "e84b956e-8f0a-4e30-f16c-4d1c063d0150"
      },
      "outputs": [
        {
          "name": "stdout",
          "output_type": "stream",
          "text": [
            "Best parameters:  {'max_depth': 10, 'max_features': 0.2, 'n_estimators': 140}\n",
            "Best cross-validated accuracy: 97.05%\n",
            "Accuracy on validation set: 93.30%\n"
          ]
        }
      ],
      "source": [
        "# train and score Random Forest classifier\n",
        "clf = RandomForestClassifier(random_state=42)\n",
        "param_grid = {\n",
        "    'n_estimators' : [100, 120, 140, 160],\n",
        "    'max_depth': [8, 9, 10, 11],\n",
        "    'max_features' : [0.1, 0.2, 0.3]\n",
        "}\n",
        "rf, rf_acc = train_and_test(clf, x_train, y_train, x_test, y_test, param_grid)"
      ]
    },
    {
      "cell_type": "markdown",
      "metadata": {
        "id": "g2QMKJSu4mHK"
      },
      "source": [
        "### Extra Trees"
      ]
    },
    {
      "cell_type": "markdown",
      "metadata": {
        "id": "N3GY8fUj1P8s"
      },
      "source": [
        "The Extra Trees algorithm builds a forest of decision trees just like random forest. However, the thresholds used to evaluate features in the internal nodes are chosen randomly in extra trees; whereas they are optimized in random forests. This increased randomness may result in better generalization."
      ]
    },
    {
      "cell_type": "code",
      "execution_count": 25,
      "metadata": {
        "colab": {
          "base_uri": "https://localhost:8080/"
        },
        "id": "bwVlj3WM4oQU",
        "outputId": "efc85b13-1945-44e8-e795-bcf63fab7d5f"
      },
      "outputs": [
        {
          "name": "stdout",
          "output_type": "stream",
          "text": [
            "Best parameters:  {'n_estimators': 100}\n",
            "Best cross-validated accuracy: 97.69%\n",
            "Accuracy on validation set: 90.50%\n"
          ]
        }
      ],
      "source": [
        "# train and score Extra Trees classifier\n",
        "clf = ExtraTreesClassifier(random_state=42)\n",
        "param_grid = {\n",
        "    'n_estimators' : [80, 90, 100, 110, 120]\n",
        "}\n",
        "extra, extra_acc = train_and_test(clf, x_train, y_train, x_test, y_test, param_grid)"
      ]
    },
    {
      "cell_type": "markdown",
      "metadata": {
        "id": "tsjIY1QetRDJ"
      },
      "source": [
        "### XGBoost"
      ]
    },
    {
      "cell_type": "markdown",
      "metadata": {
        "id": "2ofjV0jb2-8k"
      },
      "source": [
        "EXtreme Gradient Boosting (XGBoost) is a tree-based algorithm that builds a forest through sequential training. New trees are added to the forest one at the time until a maximum size is reached. Each new learner is built to correct the mistakes of the existing model it is added to."
      ]
    },
    {
      "cell_type": "code",
      "execution_count": 26,
      "metadata": {
        "colab": {
          "base_uri": "https://localhost:8080/"
        },
        "id": "bpeOYh9xtOCf",
        "outputId": "b6c99305-a811-4d8b-d6a3-282802bbafff"
      },
      "outputs": [
        {
          "name": "stdout",
          "output_type": "stream",
          "text": [
            "Best parameters:  {'max_depth': 7}\n",
            "Best cross-validated accuracy: 97.05%\n",
            "Accuracy on validation set: 93.85%\n"
          ]
        }
      ],
      "source": [
        "# train and score XGBoost classifier\n",
        "clf = XGBClassifier(random_state=42)\n",
        "param_grid = {\n",
        "    'max_depth': [6, 7, 8, 9]\n",
        "}\n",
        "xgb, xgb_acc = train_and_test(clf, x_train, y_train, x_test, y_test, param_grid)"
      ]
    },
    {
      "cell_type": "markdown",
      "metadata": {
        "id": "X6mAphtqKW-z"
      },
      "source": [
        "### Majority Voting"
      ]
    },
    {
      "cell_type": "markdown",
      "metadata": {
        "id": "NVzoUhThwWNb"
      },
      "source": [
        "Multiple ML models can be grouped into an ensemble model in the attempt of achieving a higher accuracy. A simple and common ensemble technique is Majority Voting.\n",
        "In this kind of model, multiple individual classifiers are trained independently on the same dataset.\n",
        "When making predictions, each individual model in the ensemble provides its own prediction.\n",
        "The final prediction of the majority voting model is the class that was voted (predicted) the most.\n",
        "\n",
        "We will build a majority voting model with our three best performing classifiers."
      ]
    },
    {
      "cell_type": "code",
      "execution_count": 27,
      "metadata": {
        "colab": {
          "base_uri": "https://localhost:8080/"
        },
        "id": "NeGO04_XKZ8k",
        "outputId": "adfe2a87-94d9-41e8-ff5d-01ccea0d5e95"
      },
      "outputs": [
        {
          "name": "stdout",
          "output_type": "stream",
          "text": [
            "Accuracy on validation set: 93.30%\n"
          ]
        }
      ],
      "source": [
        "clf = VotingClassifier(estimators=[\n",
        "    ('rf', RandomForestClassifier(max_depth=10, max_features=0.2, n_estimators=140, random_state=42)),\n",
        "    ('extra', ExtraTreesClassifier(n_estimators=100, random_state=42)),\n",
        "    ('xgb', XGBClassifier(max_depth=7, random_state=42))\n",
        "], voting='soft')\n",
        "\n",
        "mv, mv_acc = train_and_test(clf, x_train, y_train, x_test, y_test)"
      ]
    },
    {
      "cell_type": "markdown",
      "metadata": {
        "id": "UcfGBFWyC6Ay"
      },
      "source": [
        "### Stacking model"
      ]
    },
    {
      "cell_type": "markdown",
      "metadata": {
        "id": "gq9lNjM-ScZc"
      },
      "source": [
        "Another way to combine multiple classifiers is by stacking them. This involves introducing a so called meta-learner, which learns to combine the predictions of the various base classifiers to produce the final classification. Thus, while the base classifiers are trained on the data, the meta-learner is trained on predictions.\n",
        "\n",
        "We will create a stacking model using our three best performing models as base classifier and an XGBoost as the meta-learner. This requires performing a few operations on the training data, which are done by the functions below."
      ]
    },
    {
      "cell_type": "code",
      "execution_count": 28,
      "metadata": {
        "id": "13PrsxBiFFk0"
      },
      "outputs": [],
      "source": [
        "# function that calculates the predictions on the given data for all the models\n",
        "\n",
        "def predict_all(models, x_train, x_test):\n",
        "  train_pred, test_pred = [], []\n",
        "  for model in models:\n",
        "    pred = model.predict(x_train)\n",
        "    train_pred.append(pred)\n",
        "\n",
        "    pred = model.predict(x_test)\n",
        "    test_pred.append(pred)\n",
        "\n",
        "  return train_pred, test_pred"
      ]
    },
    {
      "cell_type": "code",
      "execution_count": 29,
      "metadata": {
        "id": "aECEHyIfFn_q"
      },
      "outputs": [],
      "source": [
        "# function to reshape the lists of predictions\n",
        "\n",
        "def reshape_and_concat(train_pred, test_pred):\n",
        "  for i in range(len(train_pred)):\n",
        "    # arrays in each list should be reshaped to be a single column\n",
        "    train_pred[i] = train_pred[i].reshape(-1, 1)\n",
        "    test_pred[i] = test_pred[i].reshape(-1, 1)\n",
        "\n",
        "  # concatenate the columns in each list to obtain a list of rows\n",
        "  # each row contains the predictions of all the models on a given instance\n",
        "  # this is what the stacking model will be trained and tested on\n",
        "  x_train_stk = np.concatenate(train_pred, axis=1)\n",
        "  x_test_stk = np.concatenate(test_pred, axis=1)\n",
        "\n",
        "  return x_train_stk, x_test_stk"
      ]
    },
    {
      "cell_type": "code",
      "execution_count": 30,
      "metadata": {
        "id": "agbB_g5HC70R"
      },
      "outputs": [],
      "source": [
        "# function to create stacked representations for both training and testing data\n",
        "\n",
        "def create_stacking_datasets(models, x_train, x_test):\n",
        "  # the stacking model is trained and tested on the predictions made by the base models\n",
        "  train_pred, test_pred = predict_all(models, x_train, x_test)\n",
        "  # these predictions are slightly formatted\n",
        "  x_train_stk, x_test_stk = reshape_and_concat(train_pred, test_pred)\n",
        "\n",
        "  return x_train_stk, x_test_stk"
      ]
    },
    {
      "cell_type": "code",
      "execution_count": 31,
      "metadata": {
        "colab": {
          "base_uri": "https://localhost:8080/"
        },
        "id": "qrHOu9vZHeyd",
        "outputId": "f3509bbf-48c7-435a-e37f-79c34a391bf5"
      },
      "outputs": [
        {
          "name": "stdout",
          "output_type": "stream",
          "text": [
            "Best parameters:  {'max_depth': 1}\n",
            "Best cross-validated accuracy: 100.00%\n",
            "Accuracy on validation set: 93.30%\n"
          ]
        }
      ],
      "source": [
        "# get the training data necessary for the stacking model\n",
        "x_train_stk, x_test_stk = create_stacking_datasets([rf, xgb, extra], x_train, x_test)\n",
        "\n",
        "# we will use XGBoost as our meta-learner\n",
        "clf = XGBClassifier(random_state=42)\n",
        "\n",
        "# train the stacking model\n",
        "param_grid = { 'max_depth': [1, 2, 3, 4, 5, 6, 7, 8, 9] }\n",
        "stk, stk_acc = train_and_test(clf, x_train_stk, y_train, x_test_stk, y_test, param_grid)"
      ]
    },
    {
      "cell_type": "markdown",
      "metadata": {
        "id": "jDaYa9RhLZu0"
      },
      "source": [
        "# Model Evaluation"
      ]
    },
    {
      "cell_type": "markdown",
      "metadata": {
        "id": "c0Bu890gUvEz"
      },
      "source": [
        "Now that we have trained all the models, we can compare their accuracies. We will also analyse the confusion matrix of the best model in order to better understand its performance on the test data."
      ]
    },
    {
      "cell_type": "markdown",
      "metadata": {
        "id": "n6irGQWzQBcR"
      },
      "source": [
        "## Accuracy"
      ]
    },
    {
      "cell_type": "code",
      "execution_count": 32,
      "metadata": {
        "colab": {
          "base_uri": "https://localhost:8080/",
          "height": 657
        },
        "id": "1bna2H1fLb5V",
        "outputId": "d125d02a-ac8a-423f-9b81-cd9104ad9faf"
      },
      "outputs": [
        {
          "name": "stdout",
          "output_type": "stream",
          "text": [
            "XGBoost: 93.85%\n",
            "Stacking: 93.30%\n",
            "Random Forest: 93.30%\n",
            "Majority Voting: 93.30%\n",
            "Extra Trees: 90.50%\n",
            "Decision Tree: 79.89%\n",
            "SVM: 77.65%\n",
            "Logistic Regression: 76.54%\n",
            "Gaussian Naive Bayes: 68.16%\n",
            "Nearest Centroid: 67.04%\n"
          ]
        },
        {
          "data": {
            "image/png": "[encoded data removed]",
            "text/plain": [
              "<Figure size 640x480 with 1 Axes>"
            ]
          },
          "metadata": {},
          "output_type": "display_data"
        }
      ],
      "source": [
        "# define the lists with the data to plot\n",
        "model_names = ['Nearest Centroid', 'K-Nearest Neighbour', 'Logistic Regression',\n",
        "               'Gaussian Naive Bayes', 'SVM', 'Decision Tree', 'Random Forest',\n",
        "               'Extra Trees', 'XGBoost', 'Stacking', 'Majority Voting']\n",
        "accuracies = [nc_acc, knn_acc, lr_acc, gnb_acc, svm_acc, dt_acc, rf_acc,\n",
        "              extra_acc, xgb_acc, stk_acc, mv_acc]\n",
        "\n",
        "# sort the lists based on accuracy\n",
        "sorted_pairs = sorted(zip(accuracies, model_names))\n",
        "accuracies, model_names = zip(*sorted_pairs)\n",
        "\n",
        "# print all model-accuracy pairs\n",
        "for i in range(len(model_names)-1, 0, -1):\n",
        "  print(model_names[i] + f': {accuracies[i]:.2f}%')\n",
        "\n",
        "# plot the histogram\n",
        "plt.barh(model_names, accuracies)\n",
        "plt.xticks(np.arange(0, max(accuracies) + 10, 10))\n",
        "\n",
        "# add labels and title\n",
        "plt.ylabel('Model')\n",
        "plt.xlabel('Accuracy')\n",
        "plt.title('Model Accuracies')\n",
        "\n",
        "plt.show()"
      ]
    },
    {
      "cell_type": "markdown",
      "metadata": {
        "id": "w8WSZGuUcgyA"
      },
      "source": [
        "Five models achieve an accuracy greater than 90%, with XGBoost and majority voting correctly classifying close to 94% of the test instances. Interestingly the majority voting and stacking models do not manage to achieve an accuracy higher than those of the base classifiers."
      ]
    },
    {
      "cell_type": "markdown",
      "metadata": {
        "id": "qso1OZ6MQHVw"
      },
      "source": [
        "## Confusion matrix of the best model (XGBoost)"
      ]
    },
    {
      "cell_type": "markdown",
      "metadata": {
        "id": "VfsrsE9hd2b_"
      },
      "source": [
        "Despite the high accuracy of the best model, it's important to further analyse its behaviour on the test instances before claiming its effectiveness. In fact, we should verify that all classes are predicted with approximately the same accuracy and that the model can distinguish normal substances from psychoactive ones. This cannot be inferred from accuracy alone, but requires the analysis of the model's confusion matrix."
      ]
    },
    {
      "cell_type": "code",
      "execution_count": 33,
      "metadata": {
        "colab": {
          "base_uri": "https://localhost:8080/",
          "height": 472
        },
        "id": "adEh6Ne0Riu0",
        "outputId": "460ca79f-700c-47ef-851a-9d7b3de26996"
      },
      "outputs": [
        {
          "data": {
            "image/png": "[encoded data removed]",
            "text/plain": [
              "<Figure size 640x480 with 2 Axes>"
            ]
          },
          "metadata": {},
          "output_type": "display_data"
        }
      ],
      "source": [
        "# classify test set\n",
        "y_pred = xgb.predict(x_test)\n",
        "\n",
        "# calculate confusion matrix\n",
        "cm = confusion_matrix(y_test, y_pred)\n",
        "\n",
        "# plot confusion matrix\n",
        "sns.heatmap(cm, annot=True, fmt=\"d\", cmap=\"Blues\")\n",
        "plt.title(\"Confusion Matrix\")\n",
        "plt.xlabel(\"Predicted\")\n",
        "plt.ylabel(\"Actual\")\n",
        "plt.show()"
      ]
    },
    {
      "cell_type": "markdown",
      "metadata": {
        "id": "gwUMsBGRe64x"
      },
      "source": [
        "The confusion matrix is almost diagonal, proving that:\n",
        "\n",
        "1. XGBoost correctly classifies most test instances (already proved by accuracy);\n",
        "2. All substance types are recognized with high accuracy by XGBoost;\n",
        "3. XGBoost can distinguish normal substances (class 6) from psychoactive ones (all other classes)."
      ]
    },
    {
      "cell_type": "markdown",
      "metadata": {
        "id": "Q93k2fTjKbZg"
      },
      "source": [
        "# Feature importance analysis"
      ]
    },
    {
      "cell_type": "markdown",
      "metadata": {
        "id": "RjZITlz4LAdl"
      },
      "source": [
        "Feature importance analysis is a technique used in machine learning to understand the significance of different input features in predicting the target variable. It helps identify which features have the most impact on the model's predictions, increasing interpretability. Moreover, knowledge of feature importances can be used to further improve a model by training it only on the significant features.\n",
        "\n",
        "In our case, we are interested in determining whether all mass-to-charge ratios from 1 to 600 contribute to the best models' classification. The majority voting and stacking models do not provide a measure of feature importance; thus, we will focus on random forest, extra trees and XGBoost."
      ]
    },
    {
      "cell_type": "markdown",
      "metadata": {
        "id": "dC22C6kxLmD8"
      },
      "source": [
        "## Useful functions"
      ]
    },
    {
      "cell_type": "markdown",
      "metadata": {
        "id": "b7q7YpMwLoOT"
      },
      "source": [
        "The following functions will be used to analyse the models' feature importances."
      ]
    },
    {
      "cell_type": "code",
      "execution_count": 34,
      "metadata": {
        "id": "jjoDolwTKgJd"
      },
      "outputs": [],
      "source": [
        "# returns a list of features whose importances are higher than a threshold\n",
        "\n",
        "def select_important_features(model, thr=0):\n",
        "  # get feature importances\n",
        "  feature_importances = model.feature_importances_\n",
        "\n",
        "  # zip feature names with their importances and sort in descending order\n",
        "  feature_importance_dict = dict(zip(feature_names, feature_importances))\n",
        "  sorted_feature_importance = sorted(feature_importance_dict.items(), key=lambda x: x[1], reverse=True)\n",
        "\n",
        "  # select features whose importances are higher than the threshold\n",
        "  fs = [feature for feature, importance in sorted_feature_importance if importance > thr]\n",
        "\n",
        "  return fs"
      ]
    },
    {
      "cell_type": "code",
      "execution_count": 35,
      "metadata": {
        "id": "LY6zS7ckNPLb"
      },
      "outputs": [],
      "source": [
        "# function to plot the distribution of feature importances\n",
        "\n",
        "def plot_importances_distribution(model, model_name):\n",
        "  feature_importances = model.feature_importances_\n",
        "  plt.figure(figsize=(15, 4))\n",
        "  plt.hist(feature_importances, bins=50, color='skyblue', edgecolor='black')\n",
        "  plt.xlabel('Importances')\n",
        "  plt.ylabel('Frequency')\n",
        "  plt.title('Distribution of feature importances of ' + model_name)\n",
        "  plt.show()"
      ]
    },
    {
      "cell_type": "code",
      "execution_count": 36,
      "metadata": {
        "id": "4HCOi11-PV39"
      },
      "outputs": [],
      "source": [
        "# function to plot the importance of each feature\n",
        "\n",
        "def plot_importances_features(model, model_name):\n",
        "  feature_importances = model.feature_importances_\n",
        "  plt.figure(figsize=(15, 4))\n",
        "  plt.bar(feature_names, feature_importances, color='skyblue')\n",
        "  plt.xlabel('Features')\n",
        "  plt.ylabel('Importances')\n",
        "  plt.title('Importance by feature of ' + model_name)\n",
        "  plt.tick_params(axis='x', colors='white')"
      ]
    },
    {
      "cell_type": "markdown",
      "metadata": {
        "id": "njnns8mxQBN3"
      },
      "source": [
        "## Non-null feature importances"
      ]
    },
    {
      "cell_type": "markdown",
      "metadata": {
        "id": "BkLlRK7MT21l"
      },
      "source": [
        "We will begin by counting the features that have a non-null importance for each model."
      ]
    },
    {
      "cell_type": "code",
      "execution_count": 37,
      "metadata": {
        "colab": {
          "base_uri": "https://localhost:8080/"
        },
        "id": "Ogdp7eMMJjUt",
        "outputId": "eeaf72e1-5bed-4470-cdfc-a32d1414199b"
      },
      "outputs": [
        {
          "name": "stdout",
          "output_type": "stream",
          "text": [
            "Non-null feature importances for Random forest: 375\n"
          ]
        }
      ],
      "source": [
        "rf_if = select_important_features(rf)\n",
        "print('Non-null feature importances for Random forest:', len(rf_if))"
      ]
    },
    {
      "cell_type": "code",
      "execution_count": 38,
      "metadata": {
        "colab": {
          "base_uri": "https://localhost:8080/"
        },
        "id": "Z-KJzkncMPHT",
        "outputId": "70d76ab1-256b-48c2-baab-973e13b86413"
      },
      "outputs": [
        {
          "name": "stdout",
          "output_type": "stream",
          "text": [
            "Non-null feature importances for Extra trees: 459\n"
          ]
        }
      ],
      "source": [
        "extra_if = select_important_features(extra)\n",
        "print('Non-null feature importances for Extra trees:', len(extra_if))"
      ]
    },
    {
      "cell_type": "code",
      "execution_count": 39,
      "metadata": {
        "colab": {
          "base_uri": "https://localhost:8080/"
        },
        "id": "YSb46jUiMV_S",
        "outputId": "e7b6e009-6073-4d94-f988-804d701f5457"
      },
      "outputs": [
        {
          "name": "stdout",
          "output_type": "stream",
          "text": [
            "Non-null feature importances for XGBoost: 245\n"
          ]
        }
      ],
      "source": [
        "xgb_if = select_important_features(xgb)\n",
        "print('Non-null feature importances for XGBoost:', len(xgb_if))"
      ]
    },
    {
      "cell_type": "markdown",
      "metadata": {
        "id": "XkM6wQHEV4is"
      },
      "source": [
        "As we can see, the number of features that contribute to the models' predictions is considerably lower than 600. In the case of XGBoost, the most overall accurate classifier, less than 50% of the features are used for making a classification."
      ]
    },
    {
      "cell_type": "markdown",
      "metadata": {
        "id": "q43M81mTLh0C"
      },
      "source": [
        "## Distribution of feature importances"
      ]
    },
    {
      "cell_type": "markdown",
      "metadata": {
        "id": "rdrHHFBPWYOs"
      },
      "source": [
        "Despite already knowing that a lot features have null importance, we are interested in determining whether some of the remaining features have an importance so small that they can be considered insignificant. We can determine this by plotting the distribution of feature importances."
      ]
    },
    {
      "cell_type": "code",
      "execution_count": 40,
      "metadata": {
        "colab": {
          "base_uri": "https://localhost:8080/",
          "height": 316
        },
        "id": "ifDC_zzgOAI1",
        "outputId": "791bfc97-a1d5-4e1f-b54f-d349d3dc7971"
      },
      "outputs": [
        {
          "data": {
            "image/png": "[encoded data removed]",
            "text/plain": [
              "<Figure size 1500x400 with 1 Axes>"
            ]
          },
          "metadata": {},
          "output_type": "display_data"
        }
      ],
      "source": [
        "plot_importances_distribution(rf, 'Random forest')"
      ]
    },
    {
      "cell_type": "code",
      "execution_count": 41,
      "metadata": {
        "colab": {
          "base_uri": "https://localhost:8080/",
          "height": 316
        },
        "id": "rYrCqjhjRFHu",
        "outputId": "22668980-5bb7-4ef1-f57e-474784686c37"
      },
      "outputs": [
        {
          "data": {
            "image/png": "[encoded data removed]",
            "text/plain": [
              "<Figure size 1500x400 with 1 Axes>"
            ]
          },
          "metadata": {},
          "output_type": "display_data"
        }
      ],
      "source": [
        "plot_importances_distribution(extra, 'Extra trees')"
      ]
    },
    {
      "cell_type": "code",
      "execution_count": 42,
      "metadata": {
        "colab": {
          "base_uri": "https://localhost:8080/",
          "height": 316
        },
        "id": "6b7lmiQKRdNP",
        "outputId": "dbcb52e1-69c4-4c81-fb0b-db7b99cee2d5"
      },
      "outputs": [
        {
          "data": {
            "image/png": "[encoded data removed]",
            "text/plain": [
              "<Figure size 1500x400 with 1 Axes>"
            ]
          },
          "metadata": {},
          "output_type": "display_data"
        }
      ],
      "source": [
        "plot_importances_distribution(xgb, 'XGBoost')"
      ]
    },
    {
      "cell_type": "markdown",
      "metadata": {
        "id": "MbHkWbRWPMvu"
      },
      "source": [
        "## Importance by feature"
      ]
    },
    {
      "cell_type": "markdown",
      "metadata": {
        "id": "dJyMdDDEW3EC"
      },
      "source": [
        "Now that we have verified that a lot of features have either zero importance or a very little one, we should determine which features actually contribute the most to the models' predictions. We can do this by plotting the feature importances of each model."
      ]
    },
    {
      "cell_type": "code",
      "execution_count": 43,
      "metadata": {
        "colab": {
          "base_uri": "https://localhost:8080/",
          "height": 315
        },
        "id": "Ib1F1CCPPune",
        "outputId": "4da61356-9766-4a3d-959f-2c1880ba8ad4"
      },
      "outputs": [
        {
          "data": {
            "image/png": "[encoded data removed]",
            "text/plain": [
              "<Figure size 1500x400 with 1 Axes>"
            ]
          },
          "metadata": {},
          "output_type": "display_data"
        }
      ],
      "source": [
        "plot_importances_features(rf, 'Random forest')"
      ]
    },
    {
      "cell_type": "code",
      "execution_count": 44,
      "metadata": {
        "colab": {
          "base_uri": "https://localhost:8080/",
          "height": 311
        },
        "id": "kEgohIV8RVE-",
        "outputId": "526c6e88-3f99-401f-9832-77dc7d7dcfcf"
      },
      "outputs": [
        {
          "data": {
            "image/png": "[encoded data removed]",
            "text/plain": [
              "<Figure size 1500x400 with 1 Axes>"
            ]
          },
          "metadata": {},
          "output_type": "display_data"
        }
      ],
      "source": [
        "plot_importances_features(extra, 'Extra trees')"
      ]
    },
    {
      "cell_type": "code",
      "execution_count": 45,
      "metadata": {
        "colab": {
          "base_uri": "https://localhost:8080/",
          "height": 315
        },
        "id": "WQTPPSbvRfsl",
        "outputId": "a3d350ad-391b-4565-eb25-8a8ec74e5cbd"
      },
      "outputs": [
        {
          "data": {
            "image/png": "[encoded data removed]",
            "text/plain": [
              "<Figure size 1500x400 with 1 Axes>"
            ]
          },
          "metadata": {},
          "output_type": "display_data"
        }
      ],
      "source": [
        "plot_importances_features(xgb, 'XGBoost')"
      ]
    },
    {
      "cell_type": "markdown",
      "metadata": {
        "id": "cQUESE6-cUVM"
      },
      "source": [
        "As we can see in the graphs, it is usually the abundances of molecular fragments at relatively low mass-to-charge ratios that have the highest feature importances. This implies that a good classification accuracy could be achieved even if only this data were available."
      ]
    },
    {
      "cell_type": "markdown",
      "metadata": {
        "id": "qY6lqOExEh-v"
      },
      "source": [
        "# Re-training XGBoost on most important features"
      ]
    },
    {
      "cell_type": "markdown",
      "metadata": {
        "id": "LkkKFBhkH6zj"
      },
      "source": [
        "Now that we know that less than half of the features influence the prediction of the best model (XGBoost), we should train and evaluate the model using only the subset of features with a non-null importance."
      ]
    },
    {
      "cell_type": "markdown",
      "metadata": {
        "id": "hmiq8WVoHMYd"
      },
      "source": [
        "## Training"
      ]
    },
    {
      "cell_type": "code",
      "execution_count": 46,
      "metadata": {
        "colab": {
          "base_uri": "https://localhost:8080/"
        },
        "id": "IqEAQl_5EYvC",
        "outputId": "57285451-51f7-4909-fcbd-367ba774c220"
      },
      "outputs": [
        {
          "name": "stdout",
          "output_type": "stream",
          "text": [
            "Shape of reduced training set: (1253, 245)\n",
            "Shape of reduced testing set: (179, 245)\n"
          ]
        }
      ],
      "source": [
        "# convert array of feature names into array of feature indices\n",
        "# feature 'i' has index i-1\n",
        "feature_indices = np.array(xgb_if).astype(int) - np.ones(len(xgb_if)).astype(int)\n",
        "\n",
        "# extract new training and testing sets based on the feature indices\n",
        "x_train_if = x_train[:, feature_indices]\n",
        "x_test_if = x_test[:, feature_indices]\n",
        "\n",
        "# check\n",
        "print('Shape of reduced training set:', x_train_if.shape)\n",
        "print('Shape of reduced testing set:', x_test_if.shape)"
      ]
    },
    {
      "cell_type": "code",
      "execution_count": 47,
      "metadata": {
        "colab": {
          "base_uri": "https://localhost:8080/"
        },
        "id": "i4WmFknoHCCP",
        "outputId": "199493da-f7be-4594-dba6-3ffccff1c68c"
      },
      "outputs": [
        {
          "name": "stdout",
          "output_type": "stream",
          "text": [
            "Best parameters:  {'max_depth': 10}\n",
            "Best cross-validated accuracy: 97.13%\n",
            "Accuracy on validation set: 93.30%\n"
          ]
        }
      ],
      "source": [
        "# train and score XGBoost classifier\n",
        "clf = XGBClassifier(random_state=42)\n",
        "param_grid = {\n",
        "    'max_depth': [9, 10, 11]\n",
        "}\n",
        "xgb, xgb_acc = train_and_test(clf, x_train_if, y_train, x_test_if, y_test, param_grid)"
      ]
    },
    {
      "cell_type": "markdown",
      "metadata": {
        "id": "_qnQRqRlHOOB"
      },
      "source": [
        "## Confusion matrix"
      ]
    },
    {
      "cell_type": "code",
      "execution_count": 48,
      "metadata": {
        "colab": {
          "base_uri": "https://localhost:8080/",
          "height": 472
        },
        "id": "rDXfdPAGH4Im",
        "outputId": "63045970-a5fb-45a3-8101-dee20e68b66b"
      },
      "outputs": [
        {
          "data": {
            "image/png": "[encoded data removed]",
            "text/plain": [
              "<Figure size 640x480 with 2 Axes>"
            ]
          },
          "metadata": {},
          "output_type": "display_data"
        }
      ],
      "source": [
        "# classify test set\n",
        "y_pred = xgb.predict(x_test_if)\n",
        "\n",
        "# calculate confusion matrix\n",
        "cm = confusion_matrix(y_test, y_pred)\n",
        "\n",
        "# plot confusion matrix\n",
        "sns.heatmap(cm, annot=True, fmt=\"d\", cmap=\"Blues\")\n",
        "plt.title(\"Confusion Matrix\")\n",
        "plt.xlabel(\"Predicted\")\n",
        "plt.ylabel(\"Actual\")\n",
        "plt.show()"
      ]
    },
    {
      "cell_type": "markdown",
      "metadata": {
        "id": "pXq03hsBI_SI"
      },
      "source": [
        "The 93.30% accuracy and the very diagonal confusion matrix prove that the 245 features with non-null importances are sufficient to build a very accurate XGBoost model."
      ]
    },
    {
      "cell_type": "markdown",
      "metadata": {
        "id": "vUke218-L9u9"
      },
      "source": [
        "# Conclusions"
      ]
    },
    {
      "cell_type": "markdown",
      "metadata": {
        "id": "XY57Z8kTc6xx"
      },
      "source": [
        "This notebook proved the effectiveness of machine learning models in classifying unknown substances solely based on their GC-MS spectra.\n",
        "The best performing algorithm found is XGBoost, which achieved an overall accuracy of 93.85%. Very high accuracies were also scored by the decision tree ensemble methods, i.e. random forest (93.30%) and extra trees (90.50%). Combining these models through majority voting (93.85%) and stacking (93.30%) did not result in higher accuracies.\n",
        "\n",
        "The analysis of the confusion matrix also verified that the XGBoost model recognizes all substance classes with high accuracy and can distinguish normal compounds from NPS, proving the model is not biased.\n",
        "\n",
        "Finally, the analysis of the feature importances for the random forest, extra trees and XGBoost models highlighted that a large subset of the 600 features does not contribute to the predictions and that the most significant features are the abundances of molecular fragments at relatively low mass-to-charge ratio. Re-training XGBoost on the subset of 245 features with non-null importances resulted in an overall 93.30% accuracy.\n"
      ]
    },
    {
      "cell_type": "markdown",
      "metadata": {
        "id": "PF7ZgP1YTaHw"
      },
      "source": [
        "# Bibliography"
      ]
    },
    {
      "cell_type": "markdown",
      "metadata": {
        "id": "l_v-nYU8TeBy"
      },
      "source": [
        "<a name=\"1\"></a>[1] United Nations on Drugs and Crime (UNODC) - Early Warning Advisory on New Psychoactive Substances. https://www.unodc.org/LSS/Page/NPS\n",
        "\n",
        "<a name=\"2\"></a>[2] Wong, S. L., Ng, L. T., Tan, J., & Pan, J. (2023). Screening unknown novel psychoactive substances using GC–MS based machine learning. *Forensic Chemistry*, 34, 100499."
      ]
    }
  ],
  "metadata": {
    "colab": {
      "provenance": []
    },
    "kernelspec": {
      "display_name": "Python 3",
      "name": "python3"
    },
    "language_info": {
      "name": "python",
      "version": "3.10.11"
    }
  },
  "nbformat": 4,
  "nbformat_minor": 0
}
